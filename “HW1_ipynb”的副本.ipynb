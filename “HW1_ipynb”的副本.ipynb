{
  "nbformat": 4,
  "nbformat_minor": 0,
  "metadata": {
    "colab": {
      "name": "“HW1.ipynb”的副本",
      "provenance": [],
      "collapsed_sections": [],
      "include_colab_link": true
    },
    "kernelspec": {
      "display_name": "Python 3",
      "language": "python",
      "name": "python3"
    },
    "language_info": {
      "codemirror_mode": {
        "name": "ipython",
        "version": 3
      },
      "file_extension": ".py",
      "mimetype": "text/x-python",
      "name": "python",
      "nbconvert_exporter": "python",
      "pygments_lexer": "ipython3",
      "version": "3.8.3"
    }
  },
  "cells": [
    {
      "cell_type": "markdown",
      "metadata": {
        "id": "view-in-github",
        "colab_type": "text"
      },
      "source": [
        "<a href=\"https://colab.research.google.com/github/luhan68/CS190DD_HW1/blob/master/%E2%80%9CHW1_ipynb%E2%80%9D%E7%9A%84%E5%89%AF%E6%9C%AC.ipynb\" target=\"_parent\"><img src=\"https://colab.research.google.com/assets/colab-badge.svg\" alt=\"Open In Colab\"/></a>"
      ]
    },
    {
      "cell_type": "markdown",
      "metadata": {
        "id": "DoO-oCQXottz"
      },
      "source": [
        "# Homework 1\n",
        "\n",
        "**DUE OCT 19th by 11:59PM**\n",
        "\n",
        "Homework 1 is done in Jupyter Notebook to give you a chance to familiarize yourself to this powerful tool for data analysis. \n",
        "\n",
        "In Jupyter Notebook, codes and texts are executed in cells. Texts are written in Markdown cell, as you can see in the homework instructions below. Codes are written in code cells. Cells are run one at a time. You can change the cell type by navigating to Cell -> Cell Type.\n",
        "\n",
        "There are spaces for you to enter your answers to the questions, either in code or text. Feel free to add more cells if you need (likely).\n",
        "\n",
        "In many parts, some Scikit-learn functions and classes have already been imported to give you leads on what you may need to use. You still need to refer to the Scikit-learn documentation to learn how the classes and methods work. You can use other publicly available libraries and packages if you want, as long as they finish the work. \n",
        "\n",
        "You are expected to turn in a **pdf version** of this notebook with all your **codes, results, and figures**. Make sure the figures and results are visible as you want them to appear in the pdf before turning it in. Please do not modify the instructions as doing so will limit our ability to follow and grade your answers."
      ]
    },
    {
      "cell_type": "markdown",
      "metadata": {
        "id": "9QnIt4o0qmGP"
      },
      "source": [
        "## Problem 1\n",
        "\n",
        "Increase your familiarity with Github. This problem needs to be finished with a partner. Follow these steps to finish the problem:\n",
        "\n",
        "1.   Create a github account.\n",
        "2.   Create a public repository and push a helloworld.py file.\n",
        "3.   Person $A$ forks Person $B$'s repo and modifies the file, then pushes to their own fork and finally creates a pull request for person B to merge.\n",
        "4.   Person $B$ reviews and merges the pull request.\n",
        "5.   Do the same for $A$ and $B$ reversed.\n",
        "\n",
        "Provide the links to your repo and your partner's repo.\n",
        "https://github.com/luhan68/CS190DD_HW1\n",
        "https://github.com/Listener-Watcher/CS190DD_P1"
      ]
    },
    {
      "cell_type": "markdown",
      "metadata": {
        "id": "qKgBcjsyott0"
      },
      "source": [
        "## Problem 2\n",
        "\n",
        "In this problem, you will consider solving the least-squared problem in two different approaches, one using Gradient Descent and the other using the formula. After that, you will compare the results you get from both approaches."
      ]
    },
    {
      "cell_type": "markdown",
      "metadata": {
        "id": "afphJhGpott1"
      },
      "source": [
        "a) Load the 1-D data and the labels from **'linear_regression.csv'**. The first column contains the data values and the second column contains the labels. Store the data in a variable ***X***. Similarly, store the labels in a variable ***y***."
      ]
    },
    {
      "cell_type": "code",
      "metadata": {
        "id": "nDFz3_7oott1",
        "outputId": "f747f4ab-1d92-472a-e7fc-4b8a0c757d5d",
        "colab": {
          "base_uri": "https://localhost:8080/",
          "height": 306
        }
      },
      "source": [
        "import numpy as np\n",
        "X = np.loadtxt('linear_regression.csv', dtype='float', delimiter=',', usecols=(0), unpack=True)\n",
        "y = np.loadtxt('linear_regression.csv', dtype='float', delimiter=',', usecols=(1), unpack=True)\n",
        "X = np.array(X)\n",
        "y = np.array(y)\n",
        "\n",
        "print(X)\n",
        "print(y)"
      ],
      "execution_count": 118,
      "outputs": [
        {
          "output_type": "stream",
          "text": [
            "[1.22 1.01 0.9  0.97 0.81 0.94 1.19 1.37 0.71 0.84 1.02 1.4  0.91 1.06\n",
            " 1.19 0.66 0.9  0.91 1.13 0.96 1.34 1.41 0.76 1.   1.1  1.06 0.91 1.1\n",
            " 1.41 1.01 1.06 1.   0.76 1.07 0.76 1.33 1.21 0.73 0.97 0.62 0.99 0.77\n",
            " 0.63 0.88 1.03 1.05 0.83 0.97 0.76 0.46 1.24 1.01 1.07 1.48 0.8  0.95\n",
            " 0.99 1.08 1.05 1.01 1.01 0.91 0.9  0.99 0.87 1.33 1.27 0.94 0.87 0.73\n",
            " 0.74 0.67 0.91 1.12 0.52 0.95 0.95 0.96 0.97 0.98 0.86 0.96 1.   1.22\n",
            " 0.95 1.37 1.29 1.05 1.01 0.91 1.11 1.18 0.99 1.01 0.98 0.97 1.36 1.04\n",
            " 0.95 0.76]\n",
            "[ 8.73  6.75  8.21 10.62  3.77  6.32  9.56  9.07  4.07  5.31  8.88  9.51\n",
            "  7.68  6.4   9.84  0.38  8.1   4.99  7.67  8.78  9.46  9.7   6.6   7.81\n",
            "  8.77 10.24  7.75  6.48 13.96  9.84  8.37  6.76  4.37  8.93  4.01  9.29\n",
            "  8.59  4.38  8.6   6.31  9.01  6.01  5.56  7.23 11.65 11.41  8.31  8.45\n",
            "  8.2   4.88  7.97 11.15  5.68  9.81  2.98  9.58  7.13 12.13  9.69  8.73\n",
            "  7.45  8.03  6.46  8.61  5.8   8.88 10.44  5.65  7.4   3.41  5.62  1.67\n",
            "  5.4   6.87  3.46  8.05  6.27  8.35 10.38  8.27  6.02  7.5   8.42  5.44\n",
            "  8.53 11.39 10.58 11.15 10.48  7.56  7.03  5.15  5.81  8.11  6.38 11.83\n",
            "  9.86  6.67  5.19  7.84]\n"
          ],
          "name": "stdout"
        }
      ]
    },
    {
      "cell_type": "markdown",
      "metadata": {
        "id": "3SVBu5DHott3"
      },
      "source": [
        "b) Fit a linear regression model, in the form $Ax + b$, using the formula. Print out the parameters $A$ and $b$."
      ]
    },
    {
      "cell_type": "code",
      "metadata": {
        "id": "9Fy8FHUHott4",
        "outputId": "c72d1664-5f15-40c7-9ed7-6cf3198709f9",
        "colab": {
          "base_uri": "https://localhost:8080/",
          "height": 85
        }
      },
      "source": [
        "A = (np.sum(y*X) - np.size(X)*np.mean(y)*np.mean(X))/(np.sum(X*X) - np.size(X)*np.mean(X)*np.mean(X))\n",
        "b = np.mean(y)-A*np.mean(X)\n",
        "print('Coefficients A: \\n', A)\n",
        "print('Intercept b : \\n', b)"
      ],
      "execution_count": 125,
      "outputs": [
        {
          "output_type": "stream",
          "text": [
            "Coefficients A: \n",
            " 7.52634699592563\n",
            "Intercept b : \n",
            " 0.2031321636466643\n"
          ],
          "name": "stdout"
        }
      ]
    },
    {
      "cell_type": "markdown",
      "metadata": {
        "id": "ljnZQZS6ott5"
      },
      "source": [
        "Visualize your result in a 2-D plot. Your plot should show the data points and the line $Ax + b$."
      ]
    },
    {
      "cell_type": "code",
      "metadata": {
        "id": "8ayp0_6aott6",
        "outputId": "c4df6e39-cb65-477b-ab78-a275b03a2a0b",
        "colab": {
          "base_uri": "https://localhost:8080/",
          "height": 265
        }
      },
      "source": [
        "import matplotlib.pyplot as plt\n",
        "_ = plt.plot(X, y, 'o', label='Original data', markersize=5)\n",
        "_ = plt.plot(X, A*X + b, 'r', label='Fitted line')\n",
        "_ = plt.legend()\n",
        "plt.show()"
      ],
      "execution_count": 120,
      "outputs": [
        {
          "output_type": "display_data",
          "data": {
            "image/png": "[encoded data removed]",
            "text/plain": [
              "<Figure size 432x288 with 1 Axes>"
            ]
          },
          "metadata": {
            "tags": [],
            "needs_background": "light"
          }
        }
      ]
    },
    {
      "cell_type": "markdown",
      "metadata": {
        "id": "j45fNRvUott8"
      },
      "source": [
        "c) Now, fit a linear regression model using Gradient Descent. Print out the parameters $A$ and $b$."
      ]
    },
    {
      "cell_type": "code",
      "metadata": {
        "id": "0yeBTn96ott8",
        "outputId": "0c1d3da6-942e-41d8-9d5a-8dfd21530874",
        "colab": {
          "base_uri": "https://localhost:8080/",
          "height": 85
        }
      },
      "source": [
        "import matplotlib.pyplot as plt\n",
        "import numpy as np\n",
        "from sklearn import datasets, linear_model\n",
        "\n",
        "X = X.reshape(-1, 1)\n",
        "y = y.reshape(-1,1)\n",
        "\n",
        "linearRegressor = linear_model.LinearRegression()\n",
        "linearRegressor.fit(X,y)\n",
        "print('Coefficients A: \\n', linearRegressor.coef_)\n",
        "print('Intercept b : \\n', linearRegressor.intercept_)\n"
      ],
      "execution_count": 122,
      "outputs": [
        {
          "output_type": "stream",
          "text": [
            "Coefficients A: \n",
            " [[7.526347]]\n",
            "Intercept b : \n",
            " [0.20313216]\n"
          ],
          "name": "stdout"
        }
      ]
    },
    {
      "cell_type": "markdown",
      "metadata": {
        "id": "AFyYnKvLott-"
      },
      "source": [
        "Visualize your result in a 2-D plot similar to that in part **b**. Compare your results from both parts."
      ]
    },
    {
      "cell_type": "code",
      "metadata": {
        "id": "sv2sHAXVott-",
        "outputId": "4e4334ed-89db-43a3-b0e2-aa9d74d9b25e",
        "colab": {
          "base_uri": "https://localhost:8080/",
          "height": 282
        }
      },
      "source": [
        "_ = plt.plot(X, y, 'o', label='Original data', markersize=5)\n",
        "_ = plt.plot(X, linearRegressor.predict(X), label='Fitted line')\n",
        "_ = plt.legend()\n",
        "plt.show()\n",
        "print(\"Results are similar.\")"
      ],
      "execution_count": 128,
      "outputs": [
        {
          "output_type": "display_data",
          "data": {
            "image/png": "[encoded data removed]",
            "text/plain": [
              "<Figure size 432x288 with 1 Axes>"
            ]
          },
          "metadata": {
            "tags": [],
            "needs_background": "light"
          }
        },
        {
          "output_type": "stream",
          "text": [
            "Results are similar.\n"
          ],
          "name": "stdout"
        }
      ]
    },
    {
      "cell_type": "markdown",
      "metadata": {
        "id": "pJjfeIAuotuA"
      },
      "source": [
        "## Problem 3\n",
        "\n",
        "In this problem, you will train classifiers using two widely used algorithms, Support Vector Machine (SVM) and Random Forest (RF). You will train and fine-tune each model using cross-validation (CV). After that, you will compare the performance of SVM and RF for this problem."
      ]
    },
    {
      "cell_type": "markdown",
      "metadata": {
        "id": "34BoVBR3otuA"
      },
      "source": [
        "a) A 13-D dataset with labels is given in **'wine.csv'**. The last column contains the labels. Store the data and the labels in variables ***X*** and ***y***, respectively."
      ]
    },
    {
      "cell_type": "code",
      "metadata": {
        "id": "SRn_EaZqotuB"
      },
      "source": [
        "# Load CSV\n",
        "import numpy as np\n",
        "filename = 'wine.csv'\n",
        "raw_data = open(filename, 'rt')\n",
        "data = np.loadtxt(raw_data, delimiter=\",\")\n",
        "X = data[:,:-1]\n",
        "y = data[:,-1]"
      ],
      "execution_count": 129,
      "outputs": []
    },
    {
      "cell_type": "markdown",
      "metadata": {
        "id": "XhA84qMtotuD"
      },
      "source": [
        "Split the data into a train set and a test set. The size of the train set is 90% of the dataset."
      ]
    },
    {
      "cell_type": "code",
      "metadata": {
        "id": "w-rLDnz2otuD"
      },
      "source": [
        "from sklearn.model_selection import train_test_split\n",
        "X_train_validation, X_test, y_train_validation, y_test = train_test_split(X,y,test_size = 0.1,shuffle=True,random_state=1)"
      ],
      "execution_count": 132,
      "outputs": []
    },
    {
      "cell_type": "markdown",
      "metadata": {
        "id": "XzmsEV8HotuF"
      },
      "source": [
        "b) Find a good SVM model by performing 10-fold CV on the train set. Try different set of model parameters and record the resulting model performance during CV. Print out your best model's parameters and its performance (accuracy)."
      ]
    },
    {
      "cell_type": "code",
      "metadata": {
        "id": "UkOVB_IKotuF",
        "outputId": "31f61a88-cd0b-4408-f354-dfe338c5406a",
        "colab": {
          "base_uri": "https://localhost:8080/",
          "height": 68
        }
      },
      "source": [
        "# A few methods to get you started with CV. \n",
        "# You are encouraged to look into the model_selection module of Scikit-learn to find tools that best fit your need.\n",
        "from sklearn.model_selection import StratifiedKFold, GridSearchCV, ParameterGrid\n",
        "from sklearn.svm import SVC\n",
        "from time import time\n",
        "from sklearn.metrics import accuracy_score\n",
        "\n",
        "start=time()\n",
        "svc = SVC()\n",
        "parameters = [{'kernel': ['rbf'], 'gamma': [1e-3, 1e-4],\n",
        "                     'C': [1, 10, 100, 1000]},\n",
        "                    {'kernel': ['linear'], 'C': [1, 10, 100, 1000]}]\n",
        "CV_svc = GridSearchCV(estimator=svc, cv=10,param_grid=parameters)\n",
        "CV_svc.fit(X_train_validation,y_train_validation)\n",
        "stop = time()\n",
        "print(\"Time elapsed: \" + str(stop-start))\n",
        "CV_svc.cv_results_\n",
        "print(\"Best hyperparameters are:\", CV_svc.best_params_)\n",
        "print(\"Best accuracy is:\", CV_svc.best_score_)"
      ],
      "execution_count": 48,
      "outputs": [
        {
          "output_type": "stream",
          "text": [
            "Time elapsed: 5.581007957458496\n",
            "Best hyperparameters are: {'C': 1, 'kernel': 'linear'}\n",
            "Best accuracy is: 0.95\n"
          ],
          "name": "stdout"
        }
      ]
    },
    {
      "cell_type": "markdown",
      "metadata": {
        "id": "QftYtzFW-i0E"
      },
      "source": [
        "Now train your best SVM model on the whole train dataset and test it on the test set. Print out your model's performance."
      ]
    },
    {
      "cell_type": "code",
      "metadata": {
        "id": "9qCn-sLV_Zhc",
        "outputId": "e87fe28a-2da8-4ecc-f812-bdd5c9520c30",
        "colab": {
          "base_uri": "https://localhost:8080/",
          "height": 34
        }
      },
      "source": [
        "best_svc=CV_svc.best_estimator_\n",
        "best_svc.fit(X_train_validation,y_train_validation)\n",
        "y_test_pred=best_svc.predict(X_test)\n",
        "print(\"Accuracy:\",accuracy_score(y_test,y_test_pred))"
      ],
      "execution_count": 49,
      "outputs": [
        {
          "output_type": "stream",
          "text": [
            "Accuracy: 1.0\n"
          ],
          "name": "stdout"
        }
      ]
    },
    {
      "cell_type": "markdown",
      "metadata": {
        "id": "mTsl_Cc8otuH"
      },
      "source": [
        "c) Similarly, find a good RF model by performing 10-fold CV on the train set. Print out your best model's parameters and its performance (accuracy)."
      ]
    },
    {
      "cell_type": "code",
      "metadata": {
        "id": "bzWFF9MvotuH",
        "outputId": "16571753-9f1a-4bbc-fc5a-388c76741032",
        "colab": {
          "base_uri": "https://localhost:8080/",
          "height": 51
        }
      },
      "source": [
        "from sklearn.ensemble import RandomForestClassifier\n",
        "rfc = RandomForestClassifier()\n",
        "start=time()\n",
        "param_grid = { \n",
        "    'n_estimators': [10, 100, 200, 700],\n",
        "    'max_features': ['auto', 'sqrt', 'log2'],\n",
        "    'criterion':['gini', 'entropy'],\n",
        "    'min_samples_split': [2, 4, 6],\n",
        "}\n",
        "CV_rfc = GridSearchCV(estimator=rfc, param_grid=param_grid, cv= 10)\n",
        "CV_rfc.fit(X_train_validation,y_train_validation)\n",
        "stop = time()\n",
        "print(\"Best hyperparameters are:\", CV_rfc.best_params_)\n",
        "print(\"Best accuracy is:\", CV_rfc.best_score_)"
      ],
      "execution_count": 51,
      "outputs": [
        {
          "output_type": "stream",
          "text": [
            "Best hyperparameters are: {'criterion': 'gini', 'max_features': 'sqrt', 'min_samples_split': 6, 'n_estimators': 200}\n",
            "Best accuracy is: 0.9875\n"
          ],
          "name": "stdout"
        }
      ]
    },
    {
      "cell_type": "markdown",
      "metadata": {
        "id": "5mfjPPRK_do8"
      },
      "source": [
        "Test your best RF model on the test set. Print out your model's performance."
      ]
    },
    {
      "cell_type": "code",
      "metadata": {
        "id": "35f4P7h2_w61",
        "outputId": "fc77f791-94a8-4458-f823-c23d2569b5e7",
        "colab": {
          "base_uri": "https://localhost:8080/",
          "height": 34
        }
      },
      "source": [
        "best_rfc=CV_rfc.best_estimator_\n",
        "best_rfc.fit(X_train_validation,y_train_validation)\n",
        "y_test_pred=best_rfc.predict(X_test)\n",
        "print(\"Accuracy:\",accuracy_score(y_test,y_test_pred))"
      ],
      "execution_count": 27,
      "outputs": [
        {
          "output_type": "stream",
          "text": [
            "Accuracy: 1.0\n"
          ],
          "name": "stdout"
        }
      ]
    },
    {
      "cell_type": "markdown",
      "metadata": {
        "id": "QMWu3IBStbRq"
      },
      "source": [
        "d) Compare the 2 models. Why do we need CV?"
      ]
    },
    {
      "cell_type": "markdown",
      "metadata": {
        "id": "Ywc-T_5zVxtQ"
      },
      "source": [
        "Cross validating allows us to rigorously check how different models and hyper parameters perform on our data by calculating the accuracy of your model against different combinations of the data available in your training set. Each time you split the data the data in that split will have some variance. How your model performances with that variance will be a bit different with every split so that finally we can find the best estimator that fit and could generalize to all the data in the dataset.  "
      ]
    },
    {
      "cell_type": "markdown",
      "metadata": {
        "id": "uac965pmotuL"
      },
      "source": [
        "## Problem 4 (moved to HW 2)\n",
        "\n",
        "In this problem, you will work on the clustering problem using Bottom-up Agglomerative clustering and K-mean clustering."
      ]
    },
    {
      "cell_type": "markdown",
      "metadata": {
        "id": "YYox5r6IotuL"
      },
      "source": [
        "a) A 4-D dataset is given in **'iris.csv'** with the last column being the ground truth label. Load the file. Store the data in a variable ***X*** and store the label in a variable ***y***. Because clustering is an unsupervised task, there is no need for the labels during training."
      ]
    },
    {
      "cell_type": "code",
      "metadata": {
        "id": "Wf0fueP1otuM"
      },
      "source": [
        ""
      ],
      "execution_count": null,
      "outputs": []
    },
    {
      "cell_type": "markdown",
      "metadata": {
        "id": "UzQL_DImotuN"
      },
      "source": [
        "b) Train a clustering model using Bottom-up Agglomerative clustering."
      ]
    },
    {
      "cell_type": "code",
      "metadata": {
        "id": "r90ogg-FotuO"
      },
      "source": [
        "from sklearn.cluster import AgglomerativeClustering\n"
      ],
      "execution_count": null,
      "outputs": []
    },
    {
      "cell_type": "markdown",
      "metadata": {
        "id": "Fsr5q1nFotuP"
      },
      "source": [
        "Visualize your clusters on a 2-D plot. Choose any 2 dimensions from the 4 dimensions to plot. Try to pick the 2 dimensions that best separate the data. Your plot should contains all the data points with points from the same predicted cluster haveing the same color. "
      ]
    },
    {
      "cell_type": "code",
      "metadata": {
        "id": "q5gBODR5otuQ"
      },
      "source": [
        ""
      ],
      "execution_count": null,
      "outputs": []
    },
    {
      "cell_type": "markdown",
      "metadata": {
        "id": "1iEBekEy1SIK"
      },
      "source": [
        "Repeat the visualization step above using the same 2 dimensions. This time, plot according to the ground truth classes. Comment on the performance of your model."
      ]
    },
    {
      "cell_type": "code",
      "metadata": {
        "id": "p3lf0Xrv1w6X"
      },
      "source": [
        ""
      ],
      "execution_count": null,
      "outputs": []
    },
    {
      "cell_type": "markdown",
      "metadata": {
        "id": "W9PfTf2sotuR"
      },
      "source": [
        "c) Train a clustering model using K-mean clustering."
      ]
    },
    {
      "cell_type": "code",
      "metadata": {
        "id": "G5qzh74NotuR"
      },
      "source": [
        "from sklearn.cluster import KMeans\n"
      ],
      "execution_count": null,
      "outputs": []
    },
    {
      "cell_type": "markdown",
      "metadata": {
        "id": "htqJKZCrotuT"
      },
      "source": [
        "Visualize your clusters on a 2-D plot. Choose any 2 dimensions from the 4 dimensions to plot. Try to pick the 2 dimensions that best separate the data. Your plot should contains all the data points with points from the same predicted cluster haveing the same color."
      ]
    },
    {
      "cell_type": "code",
      "metadata": {
        "id": "deWqhR4potuT"
      },
      "source": [
        ""
      ],
      "execution_count": null,
      "outputs": []
    },
    {
      "cell_type": "markdown",
      "metadata": {
        "id": "Da9qg3Wi1358"
      },
      "source": [
        "Repeat the visualization step above using the same 2 dimensions. This time, plot according to the ground truth classes. Comment on the performance of your model."
      ]
    },
    {
      "cell_type": "code",
      "metadata": {
        "id": "Z7EgKmxx17_s"
      },
      "source": [
        ""
      ],
      "execution_count": null,
      "outputs": []
    },
    {
      "cell_type": "markdown",
      "metadata": {
        "id": "b-8WjIaNotuV"
      },
      "source": [
        "d) Perform Principle Component Analysis (PCA) on the data. Project the original data on the 2 largest principle components. Store this new projected 2-D data in a variable ***X_projected***."
      ]
    },
    {
      "cell_type": "code",
      "metadata": {
        "id": "Jnx5i9NwotuV"
      },
      "source": [
        "from sklearn.decomposition import PCA\n"
      ],
      "execution_count": null,
      "outputs": []
    },
    {
      "cell_type": "markdown",
      "metadata": {
        "id": "c4VFnvdTotuW"
      },
      "source": [
        "Repeat part **b** on the new 2-D data. Train the Bottom-up Agglomerative model and visualize your results."
      ]
    },
    {
      "cell_type": "code",
      "metadata": {
        "id": "sLhLTY-PotuX"
      },
      "source": [
        ""
      ],
      "execution_count": null,
      "outputs": []
    },
    {
      "cell_type": "markdown",
      "metadata": {
        "id": "ZhXg9gKEotuY"
      },
      "source": [
        "Repeat part **c** on the new 2-D data. Train the K-means model and visualize your result."
      ]
    },
    {
      "cell_type": "code",
      "metadata": {
        "id": "o8jwbAElotuZ"
      },
      "source": [
        ""
      ],
      "execution_count": null,
      "outputs": []
    },
    {
      "cell_type": "markdown",
      "metadata": {
        "id": "Fz5Wc_dgotua"
      },
      "source": [
        "Compare the quality of 4-D and 2-D clusterings. When would the ideas of projection and dimensionality reduction be useful?"
      ]
    },
    {
      "cell_type": "markdown",
      "metadata": {
        "id": "WmsQa5XEHUau"
      },
      "source": [
        "## Problem 5\n",
        "\n",
        "What is the hypothesis space for problems 1-3? What are the pros and cons of having a large hypothesis space? \n",
        "\n"
      ]
    },
    {
      "cell_type": "markdown",
      "metadata": {
        "id": "EVFycyGIDGaL"
      },
      "source": [
        "**Linear Classifier:** linear functions / polynomials in R2 space.\n",
        "\n",
        "**SVM:**a linear functions in a high dimensional feature space, trained with a learning algorithm from optimization theory that implements a learning bias derived from statistical learning theory. All combinations of support vectors that maximize margins. \n",
        "\n",
        "**Random Forest Classifier:** Given the depth of all the trees in the forest, all combination of the possible trees defined in the set of decision boundary. \n",
        "\n",
        "**Pros:** Not emit any possibililities of models with better parameters. Avoid underfitting with small hypothesis space\n",
        "\n",
        "**Cons:** If it's too large, then the classifer might have 100% accuracy on test dataset, which mean overfitting if using only small amount of data.\n"
      ]
    },
    {
      "cell_type": "markdown",
      "metadata": {
        "id": "xYuqFx8xHa1M"
      },
      "source": [
        "## Problem 6\n",
        "\n",
        "Suppose we find the best binary classifier for a set of red points and another binary classifier for a set of blue points. Now, suppose we are given a new set of $R$ red and $B$ blue points that we can predict to be positive or negative. If we have to choose a subset of $k$ positive points from $R$ union $B$, what would be fair way for choosing. \n",
        "\n",
        "You are given a red dataset in 'R.csv' and a blue dataset in 'B.csv'. There is also a third test dataset in 'RBtest.csv'."
      ]
    },
    {
      "cell_type": "markdown",
      "metadata": {
        "id": "jFV_vm-orpDp"
      },
      "source": [
        "a) Load the datasets. All datasets are 2-D with the last column containing the labels. "
      ]
    },
    {
      "cell_type": "code",
      "metadata": {
        "id": "FZBjsepYHf5P"
      },
      "source": [
        "import numpy as np\n",
        "B_data = np.loadtxt(open('B.csv', 'rt'), delimiter=\",\")\n",
        "R_data = np.loadtxt(open('R.csv', 'rt'), delimiter=\",\")\n",
        "RBtest_data = np.loadtxt(open('RBtest.csv', 'rt'), delimiter=\",\")\n",
        "\n",
        "B_train_validation_data, B_test_data = train_test_split(B_data,test_size = 0.1,shuffle=True,random_state=42)\n",
        "R_train_validation_data, R_test_data = train_test_split(R_data,test_size = 0.1,shuffle=True,random_state=42)"
      ],
      "execution_count": 79,
      "outputs": []
    },
    {
      "cell_type": "markdown",
      "metadata": {
        "id": "RemkSEnPr1IB"
      },
      "source": [
        "b) Train 2 classifiers, one for the red dataset and the other for the blue dataset. You are free to choose the learning algorithm. "
      ]
    },
    {
      "cell_type": "code",
      "metadata": {
        "id": "oFuY0Y8qsNh-",
        "outputId": "eb9c12c5-e94c-45de-9610-2fd7b335e9a1",
        "colab": {
          "base_uri": "https://localhost:8080/",
          "height": 119
        }
      },
      "source": [
        "# X_train,y_train=train_dataset[:,:-1],train_dataset[:,-1]\n",
        "\n",
        "# set hyperparameters for Model B\n",
        "parameters = {'kernel':('linear','rbf','poly'),'C':[1,10,100,1000],'gamma':[1e-3,1e-4],'degree':[1,2,3,4,5]}\n",
        "CV_svc_B = GridSearchCV(estimator=svc, cv=10,param_grid=parameters)\n",
        "CV_svc_B.fit(B_train_validation_data[:,:-1],B_train_validation_data[:,-1])\n",
        "CV_svc_B.cv_results_\n",
        "print(\"Best hyperparameters for Model B are:\", CV_svc_B.best_params_)\n",
        "print(\"Best accuracy is:\", CV_svc_B.best_score_)\n",
        "best_svc_B=CV_svc_B.best_estimator_\n",
        "best_svc_B.fit(B_train_validation_data[:,:-1],B_train_validation_data[:,-1])\n",
        "y_test_pred=best_svc_B.predict(B_test_data[:,:-1])\n",
        "print(\"Accuracy for dataset B is:\",accuracy_score(B_test_data[:,-1],y_test_pred))\n",
        "\n",
        "\n",
        "CV_svc_R = GridSearchCV(estimator=svc, cv=10,param_grid=parameters)\n",
        "CV_svc_R.fit(R_train_validation_data[:,:-1],R_train_validation_data[:,-1])\n",
        "CV_svc_R.cv_results_\n",
        "print(\"Best hyperparameters for Model R are:\", CV_svc_R.best_params_)\n",
        "print(\"Best accuracy is:\", CV_svc_R.best_score_)\n",
        "best_svc_R=CV_svc_R.best_estimator_\n",
        "best_svc_R.fit(R_train_validation_data[:,:-1],R_train_validation_data[:,-1])\n",
        "y_test_pred=best_svc_R.predict(R_test_data[:,:-1])\n",
        "print(\"Accuracy for dataset R is:\",accuracy_score(R_test_data[:,-1],y_test_pred))"
      ],
      "execution_count": 87,
      "outputs": [
        {
          "output_type": "stream",
          "text": [
            "Best hyperparameters for Model B are: {'C': 100, 'degree': 1, 'gamma': 0.001, 'kernel': 'rbf'}\n",
            "Best accuracy is: 0.8947619047619048\n",
            "Accuracy for dataset B is: 0.75\n",
            "Best hyperparameters for Model R are: {'C': 1, 'degree': 1, 'gamma': 0.001, 'kernel': 'linear'}\n",
            "Best accuracy is: 0.9033333333333333\n",
            "Accuracy for dataset R is: 0.8125\n"
          ],
          "name": "stdout"
        }
      ]
    },
    {
      "cell_type": "markdown",
      "metadata": {
        "id": "bRp8Q1g6sQZW"
      },
      "source": [
        "c) Now use your models to classify instances in the test dataset. The models may agree on many points but may also disagree on many other points. Let's call the set of positive points classified by the red model $P_r$ and the set of positive points classified by the blue model $P_b$. You are asked to pick out $k$ points from the set $P_r \\cup P_b$. What is a fair way to do this. Demonstrate your answer with code and visualizations. "
      ]
    },
    {
      "cell_type": "code",
      "metadata": {
        "id": "pbilFMGsYds2",
        "outputId": "86e48075-f7e2-4532-ba89-74ae503eba6f",
        "colab": {
          "base_uri": "https://localhost:8080/",
          "height": 367
        }
      },
      "source": [
        "y_test_pred_B=best_svc_B.predict(RBtest_data[:,:-1])\n",
        "print(\"Accuracy using Model B is:\",accuracy_score(RBtest_data[:,-1],y_test_pred_B))\n",
        "\n",
        "y_test_pred_R=best_svc_R.predict(RBtest_data[:,:-1])\n",
        "print(\"Accuracy using Model R is:\",accuracy_score(RBtest_data[:,-1],y_test_pred_R))\n",
        "\n",
        "X_test = RBtest_data[:,:-1]\n",
        "y_test = RBtest_data[:,-1]\n",
        "x_min, x_max = X_test[:, 0].min() - 1, X_test[:, 0].max() + 1\n",
        "y_min, y_max = X_test[:, 1].min() - 1, X_test[:, 1].max() + 1\n",
        "xx, yy = np.meshgrid(np.arange(x_min, x_max, 0.1),\n",
        "                     np.arange(y_min, y_max, 0.1))\n",
        "\n",
        "Model_R = best_svc_R.predict(np.c_[xx.ravel(), yy.ravel()])\n",
        "Model_R = Model_R.reshape(xx.shape)\n",
        "\n",
        "Model_B = best_svc_B.predict(np.c_[xx.ravel(), yy.ravel()])\n",
        "Model_B = Model_B.reshape(xx.shape)\n",
        "\n",
        "plt.figure()\n",
        "plt.contourf(xx,yy,Model_R,alpha=0.4)\n",
        "plt.contourf(xx,yy,Model_B,alpha=0.4)\n",
        "plt.scatter(X_test[:,0],X_test[:,1],c=y_test,s=20,edgecolors='k')\n",
        "\n",
        "print(y_test_pred_B)\n",
        "print(y_test_pred_R)"
      ],
      "execution_count": 88,
      "outputs": [
        {
          "output_type": "stream",
          "text": [
            "Accuracy using Model B is: 0.85\n",
            "Accuracy using Model R is: 0.725\n",
            "[0. 0. 1. 1. 1. 0. 1. 0. 1. 0. 1. 0. 0. 1. 1. 0. 0. 0. 1. 1. 0. 1. 0. 0.\n",
            " 1. 0. 1. 1. 1. 1. 1. 1. 0. 1. 0. 1. 1. 0. 1. 1.]\n",
            "[0. 0. 0. 1. 1. 0. 0. 0. 1. 0. 0. 0. 0. 0. 1. 0. 0. 0. 0. 0. 0. 0. 0. 0.\n",
            " 1. 0. 1. 0. 1. 1. 1. 0. 0. 1. 0. 1. 0. 0. 1. 0.]\n"
          ],
          "name": "stdout"
        },
        {
          "output_type": "display_data",
          "data": {
            "image/png": "[encoded data removed]",
            "text/plain": [
              "<Figure size 432x288 with 1 Axes>"
            ]
          },
          "metadata": {
            "tags": [],
            "needs_background": "light"
          }
        }
      ]
    },
    {
      "cell_type": "markdown",
      "metadata": {
        "id": "Jc3TNMKbrICs"
      },
      "source": [
        "As the graph shows, the upper SVM classifer in the graph is the classifer trained with R_data, which has lower accuracy when applying to RBtest_data than the lower SVM classifer trained with B_data. \n",
        "\n",
        "According to the graph, the false positive rate of the upper classifer is smaller than lower one, meaning the postive points classified by Model R are more likely to be actual positive. In contrary, the false negative rate of the upper classifer is huger than lower one, meaning Model R isn't fair enough and neglect more positive points. \n",
        "\n",
        "As a result, when trying to pick k positive points from the union set of R_data and B_data, **if our goal is to guarantee our select points are positive**, then we should select more positive points from postive points classfied by Model R, and fewer from ones classfied by Model B. **If our goal is to also decrease the false negative rate and be as fair as possible to all points**, then we should select more positive points classified by Model B (as it includes some positive points neglected by Model A) and fewer from Model A."
      ]
    }
  ]
}